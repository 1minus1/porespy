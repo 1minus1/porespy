{
 "cells": [
  {
   "cell_type": "markdown",
   "metadata": {},
   "source": [
    "# SNOW Network Extraction"
   ]
  },
  {
   "cell_type": "markdown",
   "metadata": {},
   "source": [
    "The SNOW algorithm, [published in Physical Review E](https://doi.org/10.1103/PhysRevE.96.023307), uses a marker-based watershed segmentation algorithm to partition an image into regions belonging to each pore.  The main contribution of the SNOW algorithm is to find a suitable set of initial markers in the image so that the watershed is not over-segmented.  SNOW is an acronym for Sub-Network of an Over-segmented Watershed.  PoreSpy includes a predefined function called ``snow`` that applies all the steps automatically, but this example will illustrate the individual steps explicitly on a 3D image."
   ]
  },
  {
   "cell_type": "markdown",
   "metadata": {},
   "source": [
    "Start by importing the necessary packages:"
   ]
  },
  {
   "cell_type": "code",
   "execution_count": 1,
   "metadata": {},
   "outputs": [],
   "source": [
    "import imageio\n",
    "import scipy as sp\n",
    "import porespy as ps\n",
    "import openpnm as op\n",
    "import scipy.ndimage as spim\n",
    "import matplotlib.pyplot as plt\n",
    "from porespy.filters import find_peaks, trim_saddle_points, trim_nearby_peaks\n",
    "from porespy.tools import randomize_colors\n",
    "from skimage.morphology import watershed\n",
    "ps.visualization.set_mpl_style()\n",
    "sp.random.seed(10)"
   ]
  },
  {
   "cell_type": "markdown",
   "metadata": {},
   "source": [
    "## Generate Artificial Image"
   ]
  },
  {
   "cell_type": "markdown",
   "metadata": {},
   "source": [
    "One of the main aims when developing the SNOW algorithm was to extract networks from images other than sandstone, which is the main material studied by geoscientists.  For this demonstration we'll use a high porosity (>85%) image of fibrous media."
   ]
  },
  {
   "cell_type": "code",
   "execution_count": 11,
   "metadata": {},
   "outputs": [
    {
     "name": "stderr",
     "output_type": "stream",
     "text": [
      "200it [00:01, 153.04it/s]                                                                                              \n"
     ]
    },
    {
     "data": {
      "image/png": "[encoded data removed]",
      "text/plain": [
       "<Figure size 432x432 with 1 Axes>"
      ]
     },
     "metadata": {
      "needs_background": "light"
     },
     "output_type": "display_data"
    }
   ],
   "source": [
    "#NBVAL_IGNORE_OUTPUT\n",
    "im = ps.generators.cylinders(shape=[300, 300, 300], radius=5, ncylinders=200)\n",
    "plt.figure(figsize=(6, 6))\n",
    "plt.imshow(ps.visualization.show_planes(im), cmap=plt.cm.bone)\n",
    "plt.axis('off')\n",
    "plt.show()"
   ]
  },
  {
   "cell_type": "markdown",
   "metadata": {},
   "source": [
    "## Step-by-Step Application of the SNOW Algorithm"
   ]
  },
  {
   "cell_type": "markdown",
   "metadata": {},
   "source": [
    "Fist let's find all the peaks of the distance transform which are theoretically suppose to lie at the center of each pore region.  In reality this process finds too many peaks, but we'll deal with this later."
   ]
  },
  {
   "cell_type": "code",
   "execution_count": 3,
   "metadata": {},
   "outputs": [],
   "source": [
    "sigma = 0.4\n",
    "dt = spim.distance_transform_edt(input=im)\n",
    "dt = spim.gaussian_filter(input=dt, sigma=sigma)\n",
    "peaks = find_peaks(dt=dt)"
   ]
  },
  {
   "cell_type": "markdown",
   "metadata": {},
   "source": [
    "The ``gaussian_filter`` is applied to the distance transform before finding the peaks, as this really reduces the number of spurious peaks be blurring the image slightly.  The next few steps use custom made functions to help filter out remaining spurious peaks.  The values of ``sigma`` and ``r`` are both adjustable but the defaults are usually acceptable."
   ]
  },
  {
   "cell_type": "code",
   "execution_count": 4,
   "metadata": {},
   "outputs": [
    {
     "name": "stdout",
     "output_type": "stream",
     "text": [
      "Initial number of peaks:  743\n",
      "Maximum number of iterations reached, consider running again with a larger value of max_iters\n",
      "Maximum number of iterations reached, consider running again with a larger value of max_iters\n",
      "Peaks after trimming saddle points:  597\n",
      "Peaks after trimming nearby peaks:  495\n"
     ]
    }
   ],
   "source": [
    "#NBVAL_IGNORE_OUTPUT\n",
    "print('Initial number of peaks: ', spim.label(peaks)[1])\n",
    "peaks = trim_saddle_points(peaks=peaks, dt=dt, max_iters=500)\n",
    "print('Peaks after trimming saddle points: ', spim.label(peaks)[1])\n",
    "peaks = trim_nearby_peaks(peaks=peaks, dt=dt)\n",
    "peaks, N = spim.label(peaks)\n",
    "print('Peaks after trimming nearby peaks: ', N)"
   ]
  },
  {
   "cell_type": "markdown",
   "metadata": {},
   "source": [
    "The final image processing step is to apply the marker-based ``watershed`` function that is available in **scikit-image** to partition the image into pores.  This function is wrapped by the PoreSpy function ``partition_pore_space``.  ``watershed`` can be called directly, but remember to invert the distance transform so that peaks become valleys (just multiply by -1).  This step is the slowest part of the process by far, but could be sped up if a faster implementation of ``watershed`` is used.  The 300**3 image used in this example will take about 1 minute to complete."
   ]
  },
  {
   "cell_type": "code",
   "execution_count": 5,
   "metadata": {},
   "outputs": [],
   "source": [
    "regions = watershed(image=-dt, markers=peaks, mask=dt > 0)\n",
    "regions = randomize_colors(regions)"
   ]
  },
  {
   "cell_type": "markdown",
   "metadata": {},
   "source": [
    "This should produce an image with each voxel labelled according to which pore it belongs.  The patches seem to be a bit odd looking but this is just an artifact of considering a 2D slice through a 3D image."
   ]
  },
  {
   "cell_type": "code",
   "execution_count": 6,
   "metadata": {},
   "outputs": [
    {
     "data": {
      "image/png": "[encoded data removed]",
      "text/plain": [
       "<Figure size 432x432 with 1 Axes>"
      ]
     },
     "metadata": {
      "needs_background": "light"
     },
     "output_type": "display_data"
    }
   ],
   "source": [
    "#NBVAL_IGNORE_OUTPUT\n",
    "plt.figure(figsize=(6, 6))\n",
    "plt.imshow((regions*im)[:, :, 100], cmap=plt.cm.nipy_spectral)\n",
    "plt.axis('off')\n",
    "plt.show()"
   ]
  },
  {
   "cell_type": "markdown",
   "metadata": {},
   "source": [
    "Finally, this partitioned image can be passed to the network extraction function which analyzes the image and returns a Python *dict* containing the numerical properties of the network."
   ]
  },
  {
   "cell_type": "code",
   "execution_count": 7,
   "metadata": {},
   "outputs": [
    {
     "name": "stdout",
     "output_type": "stream",
     "text": [
      "------------------------------------------------------------\n",
      "Extracting pore and throat information from image\n",
      "100%|████████████████████████████████████████████████████████████████████████████████| 495/495 [00:39<00:00, 12.57it/s]\n"
     ]
    }
   ],
   "source": [
    "#NBVAL_IGNORE_OUTPUT\n",
    "net = ps.networks.regions_to_network(im=regions*im, dt=dt, voxel_size=1)"
   ]
  },
  {
   "cell_type": "markdown",
   "metadata": {},
   "source": [
    "This network can be opened in OpenPNM with ease, and then exported as a VTK file for viewing in ParaView."
   ]
  },
  {
   "cell_type": "code",
   "execution_count": 8,
   "metadata": {},
   "outputs": [],
   "source": [
    "pn = op.network.GenericNetwork()\n",
    "pn.update(net)\n",
    "prj = pn.project\n",
    "prj.export_data(filename='extracted_network', filetype='vtk')"
   ]
  },
  {
   "cell_type": "markdown",
   "metadata": {},
   "source": [
    "In order to overlay both the network and the image in ParaView it is necessary to adjust the image and save it as a vtk image file."
   ]
  },
  {
   "cell_type": "code",
   "execution_count": 9,
   "metadata": {},
   "outputs": [],
   "source": [
    "#NBVAL_IGNORE_OUTPUT\n",
    "im = ps.tools.align_image_with_openpnm(im).astype(int)\n",
    "ps.io.to_vtk(im, path='.extracted_network')"
   ]
  },
  {
   "cell_type": "markdown",
   "metadata": {},
   "source": [
    "<img src=\"https://i.imgur.com/JwFRGkW.png\" width=60%>"
   ]
  }
 ],
 "metadata": {
  "kernelspec": {
   "display_name": "Python 3",
   "language": "python",
   "name": "python3"
  },
  "language_info": {
   "codemirror_mode": {
    "name": "ipython",
    "version": 3
   },
   "file_extension": ".py",
   "mimetype": "text/x-python",
   "name": "python",
   "nbconvert_exporter": "python",
   "pygments_lexer": "ipython3",
   "version": "3.7.6"
  }
 },
 "nbformat": 4,
 "nbformat_minor": 2
}
